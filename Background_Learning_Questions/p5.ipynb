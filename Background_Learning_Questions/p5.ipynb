{
  "nbformat": 4,
  "nbformat_minor": 0,
  "metadata": {
    "colab": {
      "name": "p5.ipynb",
      "provenance": [],
      "authorship_tag": "ABX9TyO8uLNUumdVsNFJvZO7dzhn",
      "include_colab_link": true
    },
    "kernelspec": {
      "name": "python3",
      "display_name": "Python 3"
    },
    "language_info": {
      "name": "python"
    }
  },
  "cells": [
    {
      "cell_type": "markdown",
      "metadata": {
        "id": "view-in-github",
        "colab_type": "text"
      },
      "source": [
        "<a href=\"https://colab.research.google.com/github/bcharlie454/Project1-Fields-2022/blob/main/Background_Learning_Questions/p5.ipynb\" target=\"_parent\"><img src=\"https://colab.research.google.com/assets/colab-badge.svg\" alt=\"Open In Colab\"/></a>"
      ]
    },
    {
      "cell_type": "code",
      "execution_count": 2,
      "metadata": {
        "id": "iU1BpcyeKKc2"
      },
      "outputs": [],
      "source": [
        "# imports\n",
        "import jax\n",
        "import numpy as np\n",
        "import time\n",
        "import math\n",
        "import matplotlib.pyplot as plt"
      ]
    },
    {
      "cell_type": "code",
      "source": [
        "# part 1\n",
        "K = 1000\n",
        "rho = 0.50\n",
        "start = np.eye(K+1,dtype=int)\n",
        "add1 = -rho*np.eye(K+1,dtype=int,k=1)\n",
        "add2 = -(1-rho)*np.eye(K+1,dtype=int,k=-1)\n",
        "A = start + add1 + add2\n",
        "A[0,1] = 0\n",
        "A[K,K-1] = 0\n",
        "b = np.zeros((K+1,1),dtype=int)\n",
        "b[K,0] = 1\n",
        "P = np.linalg.solve(A,b)\n",
        "k = np.arange(start=0,stop=K+1,step=1)\n",
        "plt.scatter(k,P,s=1.5)\n",
        "plt.show()\n",
        "\n"
      ],
      "metadata": {
        "colab": {
          "base_uri": "https://localhost:8080/",
          "height": 265
        },
        "id": "Q0hlH7-KF0iZ",
        "outputId": "d6a28c54-b69b-432e-ad71-3eea32661d76"
      },
      "execution_count": 35,
      "outputs": [
        {
          "output_type": "display_data",
          "data": {
            "text/plain": [
              "<Figure size 432x288 with 1 Axes>"
            ],
            "image/png": "[encoded data removed]"
          },
          "metadata": {
            "needs_background": "light"
          }
        }
      ]
    },
    {
      "cell_type": "code",
      "source": [
        "# part 2\n",
        "K = 2 ** 10\n",
        "h = 1/(K+1)\n",
        "x = np.arange(0,1+h/2,h)\n",
        "pi_mat = np.full((1,K+2),math.pi)\n",
        "f = np.exp(np.sin(np.multiply(pi_mat,np.power(x,2)))) - 1\n",
        "f[0,K+1] = 0\n",
        "start = 2*np.eye(K,dtype=int)\n",
        "add = -1*np.eye(K,dtype=int,k=1) + (-1)*np.eye(K,dtype=int,k=-1)\n",
        "A = start + add\n",
        "b = np.power(h,2)*f[0,1:K+1]\n",
        "y_est = np.zeros(K+2)\n",
        "y_est[1:K+1] = np.linalg.solve(A,b)\n",
        "M = np.amax(y_est)\n",
        "print(M)\n",
        "plt.scatter(x,y_est)\n",
        "plt.show()"
      ],
      "metadata": {
        "colab": {
          "base_uri": "https://localhost:8080/",
          "height": 282
        },
        "id": "o56XK725KeXY",
        "outputId": "d2d6d0db-2620-432b-f6a1-704289300497"
      },
      "execution_count": 69,
      "outputs": [
        {
          "output_type": "stream",
          "name": "stdout",
          "text": [
            "0.122730579995175\n"
          ]
        },
        {
          "output_type": "display_data",
          "data": {
            "text/plain": [
              "<Figure size 432x288 with 1 Axes>"
            ],
            "image/png": "[encoded data removed]"
          },
          "metadata": {
            "needs_background": "light"
          }
        }
      ]
    }
  ]
}